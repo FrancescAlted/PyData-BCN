{
 "cells": [
  {
   "cell_type": "markdown",
   "metadata": {
    "deletable": true,
    "editable": true
   },
   "source": [
    "# Basic Datatypes in HDF5"
   ]
  },
  {
   "cell_type": "code",
   "execution_count": 110,
   "metadata": {
    "collapsed": true,
    "deletable": true,
    "editable": true
   },
   "outputs": [],
   "source": [
    "import numpy as np"
   ]
  },
  {
   "cell_type": "markdown",
   "metadata": {
    "deletable": true,
    "editable": true
   },
   "source": [
    "## Homogeneous datatypes"
   ]
  },
  {
   "cell_type": "code",
   "execution_count": 111,
   "metadata": {
    "collapsed": true,
    "deletable": true,
    "editable": true
   },
   "outputs": [],
   "source": [
    "arr_to_store = np.arange(10, dtype=np.int8)"
   ]
  },
  {
   "cell_type": "markdown",
   "metadata": {
    "deletable": true,
    "editable": true
   },
   "source": [
    "### Using h5py"
   ]
  },
  {
   "cell_type": "code",
   "execution_count": 112,
   "metadata": {
    "collapsed": true,
    "deletable": true,
    "editable": true
   },
   "outputs": [],
   "source": [
    "import h5py"
   ]
  },
  {
   "cell_type": "code",
   "execution_count": 113,
   "metadata": {
    "collapsed": true,
    "deletable": true,
    "editable": true
   },
   "outputs": [],
   "source": [
    "f = h5py.File(\"homogeneous1.h5\", \"w\")"
   ]
  },
  {
   "cell_type": "code",
   "execution_count": 114,
   "metadata": {
    "collapsed": false,
    "deletable": true,
    "editable": true
   },
   "outputs": [
    {
     "data": {
      "text/plain": [
       "<HDF5 dataset \"mydata\": shape (10,), type \"|i1\">"
      ]
     },
     "execution_count": 114,
     "metadata": {},
     "output_type": "execute_result"
    }
   ],
   "source": [
    "f.create_dataset(data=arr_to_store, name=\"mydata\", dtype=np.int8)"
   ]
  },
  {
   "cell_type": "code",
   "execution_count": 115,
   "metadata": {
    "collapsed": false,
    "deletable": true,
    "editable": true
   },
   "outputs": [
    {
     "data": {
      "text/plain": [
       "array([0, 1, 2, 3, 4, 5, 6, 7, 8, 9], dtype=int8)"
      ]
     },
     "execution_count": 115,
     "metadata": {},
     "output_type": "execute_result"
    }
   ],
   "source": [
    "f['/mydata'][:]"
   ]
  },
  {
   "cell_type": "code",
   "execution_count": 116,
   "metadata": {
    "collapsed": false,
    "deletable": true,
    "editable": true
   },
   "outputs": [
    {
     "data": {
      "text/plain": [
       "<HDF5 file \"homogeneous1.h5\" (mode r+)>"
      ]
     },
     "execution_count": 116,
     "metadata": {},
     "output_type": "execute_result"
    }
   ],
   "source": [
    "f"
   ]
  },
  {
   "cell_type": "code",
   "execution_count": 117,
   "metadata": {
    "collapsed": true,
    "deletable": true,
    "editable": true
   },
   "outputs": [],
   "source": [
    "f.close()"
   ]
  },
  {
   "cell_type": "code",
   "execution_count": 120,
   "metadata": {
    "collapsed": false,
    "deletable": true,
    "editable": true
   },
   "outputs": [
    {
     "name": "stdout",
     "output_type": "stream",
     "text": [
      "Opened \"homogeneous1.h5\" with sec2 driver.\r\n",
      "/                        Group\r\n",
      "    Location:  1:96\r\n",
      "    Links:     1\r\n",
      "/mydata                  Dataset {10/10}\r\n",
      "    Location:  1:800\r\n",
      "    Links:     1\r\n",
      "    Storage:   10 logical bytes, 10 allocated bytes, 100.00% utilization\r\n",
      "    Type:      native signed char\r\n"
     ]
    }
   ],
   "source": [
    "!h5ls -rv homogeneous1.h5"
   ]
  },
  {
   "cell_type": "code",
   "execution_count": 121,
   "metadata": {
    "collapsed": false,
    "deletable": true,
    "editable": true
   },
   "outputs": [
    {
     "name": "stdout",
     "output_type": "stream",
     "text": [
      "-rw-r--r--  1 faltet  staff  2154 May  8 12:43 homogeneous1.h5\r\n"
     ]
    }
   ],
   "source": [
    "!ls -l homogeneous1.h5"
   ]
  },
  {
   "cell_type": "markdown",
   "metadata": {
    "deletable": true,
    "editable": true
   },
   "source": [
    "### Using PyTables"
   ]
  },
  {
   "cell_type": "code",
   "execution_count": 122,
   "metadata": {
    "collapsed": true,
    "deletable": true,
    "editable": true
   },
   "outputs": [],
   "source": [
    "import tables"
   ]
  },
  {
   "cell_type": "code",
   "execution_count": 123,
   "metadata": {
    "collapsed": false,
    "deletable": true,
    "editable": true
   },
   "outputs": [],
   "source": [
    "f2 = tables.open_file(\"homogeneous2.h5\", \"w\")"
   ]
  },
  {
   "cell_type": "code",
   "execution_count": 124,
   "metadata": {
    "collapsed": false,
    "deletable": true,
    "editable": true
   },
   "outputs": [
    {
     "data": {
      "text/plain": [
       "/mydata (Array(10,)) ''\n",
       "  atom := Int8Atom(shape=(), dflt=0)\n",
       "  maindim := 0\n",
       "  flavor := 'numpy'\n",
       "  byteorder := 'irrelevant'\n",
       "  chunkshape := None"
      ]
     },
     "execution_count": 124,
     "metadata": {},
     "output_type": "execute_result"
    }
   ],
   "source": [
    "f2.create_array(f2.root, name=\"mydata\", obj=arr_to_store)"
   ]
  },
  {
   "cell_type": "code",
   "execution_count": 125,
   "metadata": {
    "collapsed": false,
    "deletable": true,
    "editable": true
   },
   "outputs": [
    {
     "data": {
      "text/plain": [
       "array([0, 1, 2, 3, 4, 5, 6, 7, 8, 9], dtype=int8)"
      ]
     },
     "execution_count": 125,
     "metadata": {},
     "output_type": "execute_result"
    }
   ],
   "source": [
    "f2.root.mydata[:]"
   ]
  },
  {
   "cell_type": "code",
   "execution_count": 126,
   "metadata": {
    "collapsed": false,
    "deletable": true,
    "editable": true
   },
   "outputs": [
    {
     "data": {
      "text/plain": [
       "File(filename=homogeneous2.h5, title='', mode='w', root_uep='/', filters=Filters(complevel=0, shuffle=False, bitshuffle=False, fletcher32=False, least_significant_digit=None))\n",
       "/ (RootGroup) ''\n",
       "/mydata (Array(10,)) ''\n",
       "  atom := Int8Atom(shape=(), dflt=0)\n",
       "  maindim := 0\n",
       "  flavor := 'numpy'\n",
       "  byteorder := 'irrelevant'\n",
       "  chunkshape := None"
      ]
     },
     "execution_count": 126,
     "metadata": {},
     "output_type": "execute_result"
    }
   ],
   "source": [
    "f2"
   ]
  },
  {
   "cell_type": "code",
   "execution_count": 127,
   "metadata": {
    "collapsed": false,
    "deletable": true,
    "editable": true
   },
   "outputs": [],
   "source": [
    "f2.close()"
   ]
  },
  {
   "cell_type": "code",
   "execution_count": 128,
   "metadata": {
    "collapsed": false,
    "deletable": true,
    "editable": true
   },
   "outputs": [
    {
     "name": "stdout",
     "output_type": "stream",
     "text": [
      "Opened \"homogeneous2.h5\" with sec2 driver.\r\n",
      "mydata                   Dataset {10/10}\r\n",
      "    Attribute: CLASS scalar\r\n",
      "        Type:      5-byte null-terminated UTF-8 string\r\n",
      "        Data:  \"ARRAY\"\r\n",
      "    Attribute: FLAVOR scalar\r\n",
      "        Type:      5-byte null-terminated UTF-8 string\r\n",
      "        Data:  \"numpy\"\r\n",
      "    Attribute: TITLE null\r\n",
      "        Type:      1-byte null-terminated UTF-8 string\r\n",
      "\r\n",
      "    Attribute: VERSION scalar\r\n",
      "        Type:      3-byte null-terminated UTF-8 string\r\n",
      "        Data:  \"2.4\"\r\n",
      "    Location:  1:1024\r\n",
      "    Links:     1\r\n",
      "    Storage:   10 logical bytes, 10 allocated bytes, 100.00% utilization\r\n",
      "    Type:      native signed char\r\n",
      "H5tools-DIAG: Error detected in HDF5:tools (1.8.17) thread 140736151184320:\r\n",
      "  #000: h5tools_dump.c line 1836 in h5tools_dump_mem(): H5Sis_simple failed\r\n",
      "    major: Failure in tools library\r\n",
      "    minor: error in function\r\n"
     ]
    }
   ],
   "source": [
    "!h5ls -v homogeneous2.h5/mydata"
   ]
  },
  {
   "cell_type": "code",
   "execution_count": 129,
   "metadata": {
    "collapsed": false,
    "deletable": true,
    "editable": true
   },
   "outputs": [
    {
     "name": "stdout",
     "output_type": "stream",
     "text": [
      "-rw-r--r--  1 faltet  staff  2154 May  8 12:43 homogeneous1.h5\r\n",
      "-rw-r--r--  1 faltet  staff  2154 May  8 12:44 homogeneous2.h5\r\n"
     ]
    }
   ],
   "source": [
    "!ls -l homogeneous*.h5"
   ]
  },
  {
   "cell_type": "markdown",
   "metadata": {
    "collapsed": true,
    "deletable": true,
    "editable": true
   },
   "source": [
    "## Compound Datatypes"
   ]
  },
  {
   "cell_type": "code",
   "execution_count": 130,
   "metadata": {
    "collapsed": false,
    "deletable": true,
    "editable": true
   },
   "outputs": [],
   "source": [
    "table_to_store = np.fromiter(((i, i**2, \"%s\"%i**3) for i in range(10)), dtype=\"i4,f8,S4\")"
   ]
  },
  {
   "cell_type": "code",
   "execution_count": 131,
   "metadata": {
    "collapsed": false,
    "deletable": true,
    "editable": true
   },
   "outputs": [
    {
     "data": {
      "text/plain": [
       "array([(0,   0., b'0'), (1,   1., b'1'), (2,   4., b'8'), (3,   9., b'27'),\n",
       "       (4,  16., b'64'), (5,  25., b'125'), (6,  36., b'216'),\n",
       "       (7,  49., b'343'), (8,  64., b'512'), (9,  81., b'729')], \n",
       "      dtype=[('f0', '<i4'), ('f1', '<f8'), ('f2', 'S4')])"
      ]
     },
     "execution_count": 131,
     "metadata": {},
     "output_type": "execute_result"
    }
   ],
   "source": [
    "table_to_store"
   ]
  },
  {
   "cell_type": "markdown",
   "metadata": {
    "deletable": true,
    "editable": true
   },
   "source": [
    "### Using h5py"
   ]
  },
  {
   "cell_type": "code",
   "execution_count": 132,
   "metadata": {
    "collapsed": true,
    "deletable": true,
    "editable": true
   },
   "outputs": [],
   "source": [
    "f = h5py.File(\"compound1.h5\", \"w\")"
   ]
  },
  {
   "cell_type": "code",
   "execution_count": 133,
   "metadata": {
    "collapsed": false,
    "deletable": true,
    "editable": true
   },
   "outputs": [
    {
     "data": {
      "text/plain": [
       "<HDF5 dataset \"mydata\": shape (10,), type \"|V16\">"
      ]
     },
     "execution_count": 133,
     "metadata": {},
     "output_type": "execute_result"
    }
   ],
   "source": [
    "f.create_dataset(data=table_to_store, name=\"mydata\")"
   ]
  },
  {
   "cell_type": "code",
   "execution_count": 134,
   "metadata": {
    "collapsed": false,
    "deletable": true,
    "editable": true
   },
   "outputs": [
    {
     "data": {
      "text/plain": [
       "dtype([('f0', '<i4'), ('f1', '<f8'), ('f2', 'S4')])"
      ]
     },
     "execution_count": 134,
     "metadata": {},
     "output_type": "execute_result"
    }
   ],
   "source": [
    "f['mydata'].dtype"
   ]
  },
  {
   "cell_type": "code",
   "execution_count": 135,
   "metadata": {
    "collapsed": false,
    "deletable": true,
    "editable": true
   },
   "outputs": [
    {
     "data": {
      "text/plain": [
       "array([(0,   0., b'0'), (1,   1., b'1'), (2,   4., b'8'), (3,   9., b'27'),\n",
       "       (4,  16., b'64'), (5,  25., b'125'), (6,  36., b'216'),\n",
       "       (7,  49., b'343'), (8,  64., b'512'), (9,  81., b'729')], \n",
       "      dtype=[('f0', '<i4'), ('f1', '<f8'), ('f2', 'S4')])"
      ]
     },
     "execution_count": 135,
     "metadata": {},
     "output_type": "execute_result"
    }
   ],
   "source": [
    "f['mydata'][:]"
   ]
  },
  {
   "cell_type": "code",
   "execution_count": 136,
   "metadata": {
    "collapsed": true,
    "deletable": true,
    "editable": true
   },
   "outputs": [],
   "source": [
    "f.close()"
   ]
  },
  {
   "cell_type": "code",
   "execution_count": 137,
   "metadata": {
    "collapsed": false,
    "deletable": true,
    "editable": true
   },
   "outputs": [
    {
     "name": "stdout",
     "output_type": "stream",
     "text": [
      "Opened \"compound1.h5\" with sec2 driver.\r\n",
      "mydata                   Dataset {10/10}\r\n",
      "    Location:  1:800\r\n",
      "    Links:     1\r\n",
      "    Storage:   160 logical bytes, 160 allocated bytes, 100.00% utilization\r\n",
      "    Type:      struct {\r\n",
      "                   \"f0\"               +0    native int\r\n",
      "                   \"f1\"               +4    native double\r\n",
      "                   \"f2\"               +12   4-byte null-padded ASCII string\r\n",
      "               } 16 bytes\r\n"
     ]
    }
   ],
   "source": [
    "!h5ls -v compound1.h5"
   ]
  },
  {
   "cell_type": "markdown",
   "metadata": {
    "deletable": true,
    "editable": true
   },
   "source": [
    "### Using PyTables (simple way)"
   ]
  },
  {
   "cell_type": "code",
   "execution_count": 138,
   "metadata": {
    "collapsed": true,
    "deletable": true,
    "editable": true
   },
   "outputs": [],
   "source": [
    "f2 = tables.open_file(\"compound2.h5\", \"w\")"
   ]
  },
  {
   "cell_type": "code",
   "execution_count": 139,
   "metadata": {
    "collapsed": false,
    "deletable": true,
    "editable": true
   },
   "outputs": [
    {
     "data": {
      "text/plain": [
       "/mydata (Table(10,)) ''\n",
       "  description := {\n",
       "  \"f0\": Int32Col(shape=(), dflt=0, pos=0),\n",
       "  \"f1\": Float64Col(shape=(), dflt=0.0, pos=1),\n",
       "  \"f2\": StringCol(itemsize=4, shape=(), dflt=b'', pos=2)}\n",
       "  byteorder := 'little'\n",
       "  chunkshape := (4096,)"
      ]
     },
     "execution_count": 139,
     "metadata": {},
     "output_type": "execute_result"
    }
   ],
   "source": [
    "f2.create_table(f2.root, name=\"mydata\", obj=table_to_store)"
   ]
  },
  {
   "cell_type": "code",
   "execution_count": 140,
   "metadata": {
    "collapsed": true,
    "deletable": true,
    "editable": true
   },
   "outputs": [],
   "source": [
    "f2.close()"
   ]
  },
  {
   "cell_type": "markdown",
   "metadata": {
    "deletable": true,
    "editable": true
   },
   "source": [
    "### Using PyTables (description way)"
   ]
  },
  {
   "cell_type": "code",
   "execution_count": 141,
   "metadata": {
    "collapsed": false,
    "deletable": true,
    "editable": true
   },
   "outputs": [],
   "source": [
    "class MyTable(tables.IsDescription):\n",
    "    f0 = tables.Int32Col()\n",
    "    f1 = tables.Float64Col()\n",
    "    f2 = tables.StringCol(itemsize=4)"
   ]
  },
  {
   "cell_type": "code",
   "execution_count": 142,
   "metadata": {
    "collapsed": false,
    "deletable": true,
    "editable": true
   },
   "outputs": [],
   "source": [
    "f3 = tables.open_file(\"compound3.h5\", \"w\")"
   ]
  },
  {
   "cell_type": "code",
   "execution_count": 143,
   "metadata": {
    "collapsed": false,
    "deletable": true,
    "editable": true
   },
   "outputs": [],
   "source": [
    "t = f3.create_table(f3.root, \"mydata\", MyTable)"
   ]
  },
  {
   "cell_type": "code",
   "execution_count": 144,
   "metadata": {
    "collapsed": false,
    "deletable": true,
    "editable": true
   },
   "outputs": [],
   "source": [
    "t.append(table_to_store)"
   ]
  },
  {
   "cell_type": "code",
   "execution_count": 145,
   "metadata": {
    "collapsed": true,
    "deletable": true,
    "editable": true
   },
   "outputs": [],
   "source": [
    "f3.close()"
   ]
  },
  {
   "cell_type": "code",
   "execution_count": 146,
   "metadata": {
    "collapsed": false
   },
   "outputs": [
    {
     "name": "stdout",
     "output_type": "stream",
     "text": [
      "Opened \"compound2.h5\" with sec2 driver.\r\n",
      "mydata                   Dataset {10/Inf}\r\n",
      "    Attribute: CLASS scalar\r\n",
      "        Type:      5-byte null-terminated UTF-8 string\r\n",
      "        Data:  \"TABLE\"\r\n",
      "    Attribute: FIELD_0_FILL scalar\r\n",
      "        Type:      native int\r\n",
      "        Data:  0\r\n",
      "    Attribute: FIELD_0_NAME scalar\r\n",
      "        Type:      2-byte null-terminated UTF-8 string\r\n",
      "        Data:  \"f0\"\r\n",
      "    Attribute: FIELD_1_FILL scalar\r\n",
      "        Type:      native double\r\n",
      "        Data:  0\r\n",
      "    Attribute: FIELD_1_NAME scalar\r\n",
      "        Type:      2-byte null-terminated UTF-8 string\r\n",
      "        Data:  \"f1\"\r\n",
      "    Attribute: FIELD_2_FILL scalar\r\n",
      "        Type:      1-byte null-terminated ASCII string\r\n",
      "        Data:  \"\"\r\n",
      "    Attribute: FIELD_2_NAME scalar\r\n",
      "        Type:      2-byte null-terminated UTF-8 string\r\n",
      "        Data:  \"f2\"\r\n",
      "    Attribute: NROWS scalar\r\n",
      "        Type:      native long\r\n",
      "        Data:  10\r\n",
      "    Attribute: TITLE null\r\n",
      "        Type:      1-byte null-terminated UTF-8 string\r\n",
      "\r\n",
      "    Attribute: VERSION scalar\r\n",
      "        Type:      3-byte null-terminated UTF-8 string\r\n",
      "        Data:  \"2.7\"\r\n",
      "    Location:  1:1024\r\n",
      "    Links:     1\r\n",
      "    Chunks:    {4096} 65536 bytes\r\n",
      "    Storage:   160 logical bytes, 65536 allocated bytes, 0.24% utilization\r\n",
      "    Type:      struct {\r\n",
      "                   \"f0\"               +0    native int\r\n",
      "                   \"f1\"               +4    native double\r\n",
      "                   \"f2\"               +12   4-byte null-terminated ASCII string\r\n",
      "               } 16 bytes\r\n",
      "H5tools-DIAG: Error detected in HDF5:tools (1.8.17) thread 140736151184320:\r\n",
      "  #000: h5tools_dump.c line 1836 in h5tools_dump_mem(): H5Sis_simple failed\r\n",
      "    major: Failure in tools library\r\n",
      "    minor: error in function\r\n"
     ]
    }
   ],
   "source": [
    "!h5ls -v compound2.h5/mydata"
   ]
  },
  {
   "cell_type": "code",
   "execution_count": 147,
   "metadata": {
    "collapsed": false,
    "deletable": true,
    "editable": true
   },
   "outputs": [
    {
     "name": "stdout",
     "output_type": "stream",
     "text": [
      "-rw-r--r--  1 faltet  staff   2.3K May  8 12:44 compound1.h5\r\n",
      "-rw-r--r--  1 faltet  staff    68K May  8 12:45 compound2.h5\r\n",
      "-rw-r--r--  1 faltet  staff    68K May  8 12:45 compound3.h5\r\n"
     ]
    }
   ],
   "source": [
    "ls -lh compound*.h5"
   ]
  },
  {
   "cell_type": "markdown",
   "metadata": {},
   "source": [
    "Hmm, it seems like PyTables files are larger than h5py ones, why?  Let's introspect a bit into the files:"
   ]
  },
  {
   "cell_type": "code",
   "execution_count": 102,
   "metadata": {
    "collapsed": false,
    "deletable": true,
    "editable": true
   },
   "outputs": [
    {
     "name": "stdout",
     "output_type": "stream",
     "text": [
      "mydata                   Dataset {10}\r\n"
     ]
    }
   ],
   "source": [
    "!h5ls compound1.h5"
   ]
  },
  {
   "cell_type": "code",
   "execution_count": 103,
   "metadata": {
    "collapsed": false,
    "deletable": true,
    "editable": true
   },
   "outputs": [
    {
     "name": "stdout",
     "output_type": "stream",
     "text": [
      "mydata                   Dataset {10/Inf}\r\n"
     ]
    }
   ],
   "source": [
    "!h5ls compound2.h5"
   ]
  },
  {
   "cell_type": "markdown",
   "metadata": {
    "deletable": true,
    "editable": true
   },
   "source": [
    "We see that the dimensionality of the table created with PyTables is `{10/Inf}`, indicating that the dataset is chunked, whereas the one created with h5py is just `{10}`, which means that it is not using chunking.  As chunked datasets takes more space than non-chunked, this is the main reason why PyTables are larger.\n",
    "\n",
    "The reason why PyTables tables are chunked by default is that they can be enlarged and compressed, and chunking is required in order to allow that.  More on chunking later."
   ]
  },
  {
   "cell_type": "code",
   "execution_count": null,
   "metadata": {
    "collapsed": true,
    "deletable": true,
    "editable": true
   },
   "outputs": [],
   "source": []
  }
 ],
 "metadata": {
  "kernelspec": {
   "display_name": "Python 3",
   "language": "python",
   "name": "python3"
  },
  "language_info": {
   "codemirror_mode": {
    "name": "ipython",
    "version": 3
   },
   "file_extension": ".py",
   "mimetype": "text/x-python",
   "name": "python",
   "nbconvert_exporter": "python",
   "pygments_lexer": "ipython3",
   "version": "3.6.1"
  }
 },
 "nbformat": 4,
 "nbformat_minor": 2
}
