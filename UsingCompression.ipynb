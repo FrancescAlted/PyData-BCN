{
 "cells": [
  {
   "cell_type": "markdown",
   "metadata": {
    "deletable": true,
    "editable": true
   },
   "source": [
    "# Why you should always use compression"
   ]
  },
  {
   "cell_type": "markdown",
   "metadata": {
    "deletable": true,
    "editable": true
   },
   "source": [
    "## Load movielens datasets"
   ]
  },
  {
   "cell_type": "code",
   "execution_count": 1,
   "metadata": {
    "collapsed": true,
    "deletable": true,
    "editable": true
   },
   "outputs": [],
   "source": [
    "import os\n",
    "import numpy as np\n",
    "import pandas as pd\n",
    "import tables"
   ]
  },
  {
   "cell_type": "code",
   "execution_count": 2,
   "metadata": {
    "collapsed": false,
    "deletable": true,
    "editable": true
   },
   "outputs": [],
   "source": [
    "!rm -f movielens-*norm-*.h5"
   ]
  },
  {
   "cell_type": "code",
   "execution_count": 3,
   "metadata": {
    "collapsed": false,
    "deletable": true,
    "editable": true
   },
   "outputs": [],
   "source": [
    "# Import CSV files via pandas\n",
    "dset = 'movielens-1m'\n",
    "fdata = os.path.join(dset, 'ratings.dat.gz')\n",
    "fitem = os.path.join(dset, 'movies.dat')\n",
    "\n",
    "# pass in column names for each CSV\n",
    "r_cols = ['user_id', 'movie_id', 'rating', 'unix_timestamp']\n",
    "ratings = pd.read_csv(fdata, sep=';', names=r_cols, compression='gzip')\n",
    "\n",
    "m_cols = ['movie_id', 'title', 'genres']\n",
    "movies = pd.read_csv(fitem, sep=';', names=m_cols,\n",
    "                     dtype={'title': object, 'genres': object})"
   ]
  },
  {
   "cell_type": "code",
   "execution_count": 4,
   "metadata": {
    "collapsed": false,
    "deletable": true,
    "editable": true
   },
   "outputs": [
    {
     "data": {
      "text/plain": [
       "movie_id     int64:dense\n",
       "title       object:dense\n",
       "genres      object:dense\n",
       "dtype: object"
      ]
     },
     "execution_count": 4,
     "metadata": {},
     "output_type": "execute_result"
    }
   ],
   "source": [
    "movies.ftypes"
   ]
  },
  {
   "cell_type": "code",
   "execution_count": 5,
   "metadata": {
    "collapsed": false,
    "deletable": true,
    "editable": true
   },
   "outputs": [
    {
     "data": {
      "text/plain": [
       "user_id           int64:dense\n",
       "movie_id          int64:dense\n",
       "rating            int64:dense\n",
       "unix_timestamp    int64:dense\n",
       "dtype: object"
      ]
     },
     "execution_count": 5,
     "metadata": {},
     "output_type": "execute_result"
    }
   ],
   "source": [
    "ratings.ftypes"
   ]
  },
  {
   "cell_type": "markdown",
   "metadata": {},
   "source": [
    "## Storing in HDF5/PyTables in compressed form"
   ]
  },
  {
   "cell_type": "code",
   "execution_count": 6,
   "metadata": {
    "collapsed": true
   },
   "outputs": [],
   "source": [
    "import os\n",
    "import shutil\n",
    "if os.path.exists(\"compression\"):\n",
    "    shutil.rmtree(\"compression\")\n",
    "os.mkdir(\"compression\")"
   ]
  },
  {
   "cell_type": "code",
   "execution_count": 7,
   "metadata": {
    "collapsed": true,
    "deletable": true,
    "editable": true
   },
   "outputs": [],
   "source": [
    "def to_hdf5(ratings, movies, filename, filters):\n",
    "    \n",
    "    class Ratings(tables.IsDescription):\n",
    "        user_id = tables.Int32Col(pos=0)\n",
    "        movie_id = tables.Int32Col(pos=1)\n",
    "        rating = tables.Int8Col(pos=2)\n",
    "        unix_timestamp = tables.Int64Col(pos=3)\n",
    "    \n",
    "    class Movies(tables.IsDescription):\n",
    "        movie_id = tables.Int32Col(pos=0)\n",
    "        title = tables.StringCol(100, pos=1)\n",
    "        genres = tables.StringCol(50, pos=2)\n",
    "    \n",
    "    with tables.open_file(filename, \"w\", PYTABLES_SYS_ATTRS=False) as f:\n",
    "        table_ratings = f.create_table(f.root, \"ratings\", Ratings, filters=filters, expectedrows=len(ratings))\n",
    "        table_ratings.append([ratings[col].values for col in ratings.ftypes.keys()])\n",
    "        table_movies = f.create_table(f.root, \"movies\", Movies, filters=filters, expectedrows=len(movies))\n",
    "        table_movies.append([movies[col].values for col in movies.ftypes.keys()])\n",
    "    return filename"
   ]
  },
  {
   "cell_type": "code",
   "execution_count": 40,
   "metadata": {
    "collapsed": false,
    "deletable": true,
    "editable": true
   },
   "outputs": [
    {
     "name": "stdout",
     "output_type": "stream",
     "text": [
      "zlib\n",
      "CPU times: user 21 ms, sys: 25.8 ms, total: 46.8 ms\n",
      "Wall time: 59.7 ms\n"
     ]
    },
    {
     "data": {
      "text/plain": [
       "'compression/no-compressed.h5'"
      ]
     },
     "execution_count": 40,
     "metadata": {},
     "output_type": "execute_result"
    }
   ],
   "source": [
    "filters = tables.Filters(complevel=0, complib=\"zlib\", shuffle=True)\n",
    "print(complib)\n",
    "if filters.complevel != 0:\n",
    "    complib = filters.complib if \":\" not in filters.complib else filters.complib.replace(\":\", \"-\")\n",
    "    shuffle = \"shuffle\" if filters.shuffle else \"noshuffle\"\n",
    "    h5file = \"compression/%s-%d-%s.h5\" % (complib, filters.complevel, shuffle)\n",
    "else:\n",
    "    h5file = \"compression/no-compressed.h5\"\n",
    "%time to_hdf5(ratings, movies, h5file, filters)"
   ]
  },
  {
   "cell_type": "code",
   "execution_count": 41,
   "metadata": {
    "collapsed": false,
    "deletable": true,
    "editable": true
   },
   "outputs": [
    {
     "name": "stdout",
     "output_type": "stream",
     "text": [
      "Opened \"compression/no-compressed.h5\" with sec2 driver.\r\n",
      "movies                   Dataset {3883/Inf}\r\n",
      "    Location:  1:14949748\r\n",
      "    Links:     1\r\n",
      "    Chunks:    {425} 65450 bytes\r\n",
      "    Storage:   597982 logical bytes, 654500 allocated bytes, 91.36% utilization\r\n",
      "    Type:      struct {\r\n",
      "                   \"movie_id\"         +0    native int\r\n",
      "                   \"title\"            +4    100-byte null-terminated ASCII string\r\n",
      "                   \"genres\"           +104  50-byte null-terminated ASCII string\r\n",
      "               } 154 bytes\r\n",
      "ratings                  Dataset {1000209/Inf}\r\n",
      "    Location:  1:800\r\n",
      "    Links:     1\r\n",
      "    Chunks:    {7710} 131070 bytes\r\n",
      "    Storage:   17003553 logical bytes, 17039100 allocated bytes, 99.79% utilization\r\n",
      "    Type:      struct {\r\n",
      "                   \"user_id\"          +0    native int\r\n",
      "                   \"movie_id\"         +4    native int\r\n",
      "                   \"rating\"           +8    native signed char\r\n",
      "                   \"unix_timestamp\"   +9    native long\r\n",
      "               } 17 bytes\r\n"
     ]
    }
   ],
   "source": [
    "!h5ls -v {h5file}"
   ]
  },
  {
   "cell_type": "code",
   "execution_count": null,
   "metadata": {
    "collapsed": true
   },
   "outputs": [],
   "source": []
  },
  {
   "cell_type": "markdown",
   "metadata": {},
   "source": [
    "## Exercise"
   ]
  },
  {
   "cell_type": "markdown",
   "metadata": {},
   "source": [
    "PyTables comes with out-of-box support for a series of codecs.  Do a quick comparison between \"zlib\", \"bzip2\", and \"blosc\" for compression levels of 1 (fastest), 5 and 9 (slowest).  Which one compresses best?  Which one compresses faster?\n",
    "\n",
    "Also, Blosc being a meta-compressor, it has support for different codecs internally that can be selected from PyTables in the \"blosc:`codec`\" form.  Do another comparison between internal Blosc codecs, namely, \"blosc:blosclz\" (the default), \"blosc:lz4\", \"blosc:lz4hc\", \"blosc:snappy\", \"blosc:zlib\" and \"blosc:zstd\".\n",
    "\n",
    "Finally, avoid any compression totally (`complevel=0`).  How fast it is compared with existing codecs?"
   ]
  },
  {
   "cell_type": "markdown",
   "metadata": {},
   "source": [
    "## Reading compressed datasets"
   ]
  },
  {
   "cell_type": "code",
   "execution_count": 42,
   "metadata": {
    "collapsed": false
   },
   "outputs": [],
   "source": [
    "files = list(os.walk(\"compression\"))[0][2]"
   ]
  },
  {
   "cell_type": "code",
   "execution_count": 43,
   "metadata": {
    "collapsed": false
   },
   "outputs": [
    {
     "data": {
      "text/plain": [
       "['blosc-blosclz-5-shuffle.h5',\n",
       " 'blosc-lz4-5-shuffle.h5',\n",
       " 'blosc-lz4hc-5-shuffle.h5',\n",
       " 'blosc-snappy-5-shuffle.h5',\n",
       " 'blosc-zlib-5-shuffle.h5',\n",
       " 'blosc-zstd-5-shuffle.h5',\n",
       " 'bzip2-5-shuffle.h5',\n",
       " 'no-compressed.h5',\n",
       " 'zlib-5-shuffle.h5']"
      ]
     },
     "execution_count": 43,
     "metadata": {},
     "output_type": "execute_result"
    }
   ],
   "source": [
    "files"
   ]
  },
  {
   "cell_type": "code",
   "execution_count": 55,
   "metadata": {
    "collapsed": false
   },
   "outputs": [
    {
     "name": "stdout",
     "output_type": "stream",
     "text": [
      "Reading file: blosc-blosclz-5-shuffle.h5\n",
      "CPU times: user 36.7 ms, sys: 10.8 ms, total: 47.4 ms\n",
      "Wall time: 32.2 ms\n",
      "Reading file: blosc-lz4-5-shuffle.h5\n",
      "CPU times: user 29 ms, sys: 20 ms, total: 49.1 ms\n",
      "Wall time: 41.1 ms\n",
      "Reading file: blosc-lz4hc-5-shuffle.h5\n",
      "CPU times: user 23.6 ms, sys: 18.3 ms, total: 41.9 ms\n",
      "Wall time: 29.7 ms\n",
      "Reading file: blosc-snappy-5-shuffle.h5\n",
      "CPU times: user 6.87 ms, sys: 10.7 ms, total: 17.6 ms\n",
      "Wall time: 17.8 ms\n",
      "Reading file: blosc-zlib-5-shuffle.h5\n",
      "CPU times: user 92.4 ms, sys: 16.8 ms, total: 109 ms\n",
      "Wall time: 65.5 ms\n",
      "Reading file: blosc-zstd-5-shuffle.h5\n",
      "CPU times: user 57.7 ms, sys: 26.3 ms, total: 84 ms\n",
      "Wall time: 58.2 ms\n",
      "Reading file: bzip2-5-shuffle.h5\n",
      "CPU times: user 677 ms, sys: 10.5 ms, total: 687 ms\n",
      "Wall time: 692 ms\n",
      "Reading file: no-compressed.h5\n",
      "CPU times: user 5.96 ms, sys: 9.06 ms, total: 15 ms\n",
      "Wall time: 14.8 ms\n",
      "Reading file: zlib-5-shuffle.h5\n",
      "CPU times: user 65.3 ms, sys: 5.56 ms, total: 70.9 ms\n",
      "Wall time: 70.7 ms\n"
     ]
    }
   ],
   "source": [
    "for f in files:\n",
    "    print(\"Reading file:\", f)\n",
    "    with tables.open_file(os.path.join(\"compression\", f)) as h5f:\n",
    "        %time h5f.root.ratings[:]"
   ]
  },
  {
   "cell_type": "markdown",
   "metadata": {},
   "source": [
    "## Exercise"
   ]
  },
  {
   "cell_type": "markdown",
   "metadata": {},
   "source": [
    "Which codec and compression level can read the fastest?  How it does compare with reading an uncompressed dataset?"
   ]
  },
  {
   "cell_type": "markdown",
   "metadata": {
    "deletable": true,
    "editable": true
   },
   "source": [
    "## Exercise"
   ]
  },
  {
   "cell_type": "markdown",
   "metadata": {},
   "source": [
    "Blosc can use multithreading for compressing/decompressing, although it is disabled by default.  You can enable a multithreaded Blosc in a series of ways, but perhaps the easiest is to set the \"BLOSC_NTHREADS\" environment variable to the desired number of threads (typically the available number of cores in your computer).\n",
    "\n",
    "Execute the cell below and re-do the reading benchmarks and look at how the reading speed vary.  Pay special attention to the difference between the CPU times and wall times."
   ]
  },
  {
   "cell_type": "code",
   "execution_count": 54,
   "metadata": {
    "collapsed": true
   },
   "outputs": [],
   "source": [
    "os.environ[\"BLOSC_NTHREADS\"] = \"4\"  # set to any other number you prefer"
   ]
  },
  {
   "cell_type": "code",
   "execution_count": null,
   "metadata": {
    "collapsed": true
   },
   "outputs": [],
   "source": []
  }
 ],
 "metadata": {
  "kernelspec": {
   "display_name": "Python 3",
   "language": "python",
   "name": "python3"
  },
  "language_info": {
   "codemirror_mode": {
    "name": "ipython",
    "version": 3
   },
   "file_extension": ".py",
   "mimetype": "text/x-python",
   "name": "python",
   "nbconvert_exporter": "python",
   "pygments_lexer": "ipython3",
   "version": "3.6.1"
  }
 },
 "nbformat": 4,
 "nbformat_minor": 2
}
