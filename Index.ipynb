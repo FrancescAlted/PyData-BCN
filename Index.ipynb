{
 "cells": [
  {
   "cell_type": "markdown",
   "metadata": {
    "deletable": true,
    "editable": true
   },
   "source": [
    "Table of Contents\n",
    "\n",
    "1. [Basic Datatypes](BasicDatatypes.ipynb)\n",
    "\n",
    "1. [Chunking](Chunking.ipynb)\n",
    "\n",
    "1. [Using Compression](UsingCompression.ipynb)\n",
    "\n",
    "1. [Structuring Datasets](StructuringDatasets.ipynb)\n",
    "\n",
    "1. [Querying in PyTables](QueryingInPyTables.ipynb)\n",
    "\n",
    "1. Integration with pandas"
   ]
  },
  {
   "cell_type": "code",
   "execution_count": null,
   "metadata": {
    "collapsed": true,
    "deletable": true,
    "editable": true
   },
   "outputs": [],
   "source": []
  }
 ],
 "metadata": {
  "kernelspec": {
   "display_name": "Python 3",
   "language": "python",
   "name": "python3"
  },
  "language_info": {
   "codemirror_mode": {
    "name": "ipython",
    "version": 3
   },
   "file_extension": ".py",
   "mimetype": "text/x-python",
   "name": "python",
   "nbconvert_exporter": "python",
   "pygments_lexer": "ipython3",
   "version": "3.6.1"
  }
 },
 "nbformat": 4,
 "nbformat_minor": 2
}
