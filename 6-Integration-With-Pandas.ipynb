{
 "cells": [
  {
   "cell_type": "markdown",
   "metadata": {
    "deletable": true,
    "editable": true
   },
   "source": [
    "# Integration with pandas"
   ]
  },
  {
   "cell_type": "markdown",
   "metadata": {
    "deletable": true,
    "editable": true
   },
   "source": [
    "> Objectives:\n",
    "> * Use pandas.HDFStore for serializing/deserializing pandas dataframes in HDF5 files\n",
    "> * Compare in-memory queries (via pandas dataframes) with on-disk ones (via HDFStore)\n",
    "> * Apply this to visualizing pokemons in Barcelona, New York and more!"
   ]
  },
  {
   "cell_type": "markdown",
   "metadata": {
    "deletable": true,
    "editable": true
   },
   "source": [
    "Let's see how HDF5 integrates with pandas while we are having fun visualizing the different kinds of pokemons in different geographical areas (like, yeah, Barcelona).  The dataset that we will be using here can obtained from https://www.kaggle.com/semioniy/predictemall."
   ]
  },
  {
   "cell_type": "code",
   "execution_count": null,
   "metadata": {
    "collapsed": false,
    "deletable": true,
    "editable": true
   },
   "outputs": [],
   "source": [
    "%matplotlib inline\n",
    "%config InlineBackend.figure_format='retina'"
   ]
  },
  {
   "cell_type": "code",
   "execution_count": null,
   "metadata": {
    "collapsed": false,
    "deletable": true,
    "editable": true
   },
   "outputs": [],
   "source": [
    "import numpy as np\n",
    "import matplotlib\n",
    "from matplotlib import pyplot as plt\n",
    "import pandas as pd\n",
    "import cartopy.crs as ccrs\n",
    "import cartopy.io.img_tiles as cimgt\n",
    "from matplotlib.offsetbox import OffsetImage, AnnotationBbox\n",
    "import os\n",
    "import shutil\n",
    "\n",
    "matplotlib.rcParams.update({'font.size': 12})"
   ]
  },
  {
   "cell_type": "markdown",
   "metadata": {
    "deletable": true,
    "editable": true
   },
   "source": [
    "## Load the pokemon dataset"
   ]
  },
  {
   "cell_type": "code",
   "execution_count": null,
   "metadata": {
    "collapsed": false,
    "deletable": true,
    "editable": true
   },
   "outputs": [],
   "source": [
    "%%time\n",
    "df = pd.read_csv('pokemon/300k_csv.zip')\n",
    "# Replace ? by a float representation\n",
    "df['pokestopDistanceKm'].replace({'?': -999.9}, inplace=True)\n",
    "df['pokestopDistanceKm'] = df.pokestopDistanceKm.astype(float)\n",
    "# Rename column with reserved name class by target\n",
    "df.rename(columns={'class': 'target'}, inplace=True)"
   ]
  },
  {
   "cell_type": "code",
   "execution_count": null,
   "metadata": {
    "collapsed": false,
    "deletable": true,
    "editable": true
   },
   "outputs": [],
   "source": [
    "df.info()"
   ]
  },
  {
   "cell_type": "code",
   "execution_count": null,
   "metadata": {
    "collapsed": false,
    "deletable": true,
    "editable": true,
    "scrolled": true
   },
   "outputs": [],
   "source": [
    "df.head()"
   ]
  },
  {
   "cell_type": "markdown",
   "metadata": {
    "deletable": true,
    "editable": true
   },
   "source": [
    "## Storing in HDF5 compressed form with pandas.HDFStore"
   ]
  },
  {
   "cell_type": "markdown",
   "metadata": {
    "deletable": true,
    "editable": true
   },
   "source": [
    "Let's store the dataframe in HDF5 and indexing just the columns that we are interested for doing our queries (remember that the indexes take space on-disk, and we want to avoid cluttering the files unnecessarily). "
   ]
  },
  {
   "cell_type": "code",
   "execution_count": null,
   "metadata": {
    "collapsed": true,
    "deletable": true,
    "editable": true
   },
   "outputs": [],
   "source": [
    "data_dir = \"hdfstore\"\n",
    "if os.path.exists(data_dir):\n",
    "    shutil.rmtree(data_dir)\n",
    "os.mkdir(data_dir)"
   ]
  },
  {
   "cell_type": "code",
   "execution_count": null,
   "metadata": {
    "collapsed": false,
    "deletable": true,
    "editable": true,
    "scrolled": true
   },
   "outputs": [],
   "source": [
    "%%time\n",
    "complib, codec = 'blosc', 'zstd'\n",
    "complevel = 6\n",
    "filename = \"%s/%s-%s-%d.h5\" % (data_dir, complib, codec, complevel)\n",
    "with pd.HDFStore(filename, mode='w') as hdf:\n",
    "    # We only index the columns needed\n",
    "    hdf.put(key='pokemons', value=df, data_columns=['target', 'latitude', 'longitude'],\n",
    "            format='table', complevel=complevel, complib=\"%s:%s\" % (complib, codec))"
   ]
  },
  {
   "cell_type": "code",
   "execution_count": null,
   "metadata": {
    "collapsed": false,
    "deletable": true,
    "editable": true
   },
   "outputs": [],
   "source": [
    "%ls -lh {data_dir} pokemon"
   ]
  },
  {
   "cell_type": "markdown",
   "metadata": {
    "deletable": true,
    "editable": true
   },
   "source": [
    "So, the `pandas.HDFStore` can store the dataframe using a space that is close (even slightly smaller!) to the original zipped CSV file.  In addition, the created HDF5 file also contains indexes (specifically for columns 'target', 'latitude' and 'longitude') for faster on-disk querying."
   ]
  },
  {
   "cell_type": "markdown",
   "metadata": {
    "deletable": true,
    "editable": true
   },
   "source": [
    "## Select comparison: in-memory vs on-disk"
   ]
  },
  {
   "cell_type": "code",
   "execution_count": null,
   "metadata": {
    "collapsed": true,
    "deletable": true,
    "editable": true
   },
   "outputs": [],
   "source": [
    "# Set the query for Barcelona coordinates\n",
    "barcelona_coords = \"(latitude > 41.365) & (latitude < 41.383) & (longitude > 2.175) & (longitude < 2.196)\""
   ]
  },
  {
   "cell_type": "code",
   "execution_count": null,
   "metadata": {
    "collapsed": false,
    "deletable": true,
    "editable": true
   },
   "outputs": [],
   "source": [
    "%%time\n",
    "df2 = df.query(barcelona_coords)"
   ]
  },
  {
   "cell_type": "code",
   "execution_count": null,
   "metadata": {
    "collapsed": false,
    "deletable": true,
    "editable": true
   },
   "outputs": [],
   "source": [
    "%%time\n",
    "with pd.HDFStore(filename, mode='r') as hdf:\n",
    "    df2 = hdf.select(key='pokemons', where=barcelona_coords)"
   ]
  },
  {
   "cell_type": "markdown",
   "metadata": {
    "deletable": true,
    "editable": true
   },
   "source": [
    "So we can do queries on-disk (i.e. not limited by the amount of memory) that are under 1 second, which is quite convenient for interactive exploration."
   ]
  },
  {
   "cell_type": "markdown",
   "metadata": {
    "deletable": true,
    "editable": true
   },
   "source": [
    "## Exercise 1\n",
    "\n",
    "Compare the cost of loading the whole CSV from pandas with respect to loading the data from the HDF5 file.\n",
    "\n",
    "**Optional**: Store the csv in an HDF5 file using complib **blosc:lz4** and complevel **9**. Compare the results in terms of space on-disk and query times."
   ]
  },
  {
   "cell_type": "code",
   "execution_count": null,
   "metadata": {
    "collapsed": true,
    "deletable": true,
    "editable": true
   },
   "outputs": [],
   "source": []
  },
  {
   "cell_type": "markdown",
   "metadata": {
    "deletable": true,
    "editable": true
   },
   "source": [
    "## Plotting Barcelona Pokemons"
   ]
  },
  {
   "cell_type": "markdown",
   "metadata": {
    "deletable": true,
    "editable": true
   },
   "source": [
    "Let's use [cartopy](http://scitools.org.uk/cartopy/) for plotting pokemon in a map of Barcelona."
   ]
  },
  {
   "cell_type": "code",
   "execution_count": null,
   "metadata": {
    "collapsed": false,
    "deletable": true,
    "editable": true
   },
   "outputs": [],
   "source": [
    "def plot_pokemons(df, extent, detail_level):\n",
    "        \n",
    "    tiler = cimgt.OSM()\n",
    "    fig, ax = plt.subplots(figsize=(25, 20), \n",
    "                           subplot_kw=dict(projection=tiler.crs))\n",
    "    # Grid and limits\n",
    "    gl = ax.gridlines(draw_labels=True)\n",
    "    gl.xlabels_top = gl.ylabels_right = False\n",
    "    ax.set_extent(extent)\n",
    "    # Tiler image and detail level\n",
    "    ax.add_image(tiler, detail_level) # always use low detail level during exploration\n",
    "    # Point transformation from cartopy to matplotlib\n",
    "    crs = ccrs.Geodetic()\n",
    "    transform = crs._as_mpl_transform(ax)\n",
    "    # Mapping points to Pokemon sprites\n",
    "    x, y, targets = df.longitude.values, df.latitude.values, df.target.values\n",
    "    artists = []\n",
    "    for i in range(len(df)):\n",
    "        image = plt.imread('pokemon/sprites/' + str(targets[i]) + '.png')\n",
    "        im = OffsetImage(image, zoom=0.6)\n",
    "        ab = AnnotationBbox(im, (x[i], y[i]), xycoords=transform, frameon=False)\n",
    "        artists.append(ax.add_artist(ab))\n",
    "    ax.plot(x, y, 'ob')\n",
    "\n",
    "    plt.show()"
   ]
  },
  {
   "cell_type": "code",
   "execution_count": null,
   "metadata": {
    "collapsed": false,
    "deletable": true,
    "editable": true
   },
   "outputs": [],
   "source": [
    "%%time\n",
    "with pd.HDFStore(filename, mode='r') as hdf:\n",
    "    df2 = hdf.select(key='pokemons', where=barcelona_coords)\n",
    "extent = (2.175, 2.196, 41.365, 41.383)\n",
    "detail_level = 15\n",
    "plot_pokemons(df2, extent, detail_level)"
   ]
  },
  {
   "cell_type": "markdown",
   "metadata": {
    "collapsed": true,
    "deletable": true,
    "editable": true
   },
   "source": [
    "### Exercise 2\n",
    "\n",
    "Plot pokemons in Central Park, New York.   \n",
    "\n",
    "Tip: http://www.bufa.es/google-maps-latitud-longitud/"
   ]
  },
  {
   "cell_type": "markdown",
   "metadata": {
    "deletable": true,
    "editable": true
   },
   "source": [
    "### Exercise 3\n",
    "\n",
    "There are some pokemon which are exclusive of certain regions; these are Farfetch'd (**target**=83), Kangashkan (**target**=115), Mr. Mime (**target**=122) and Tauros (**target**=128).  Plot the world map with only these pokemon.  \n",
    "\n",
    "**Tip**: for plotting a world-wide view, copy the `plot_pokemons` function and replace the following lines: \n",
    "\n",
    "```python\n",
    "tiler = cimgt.OSM()\n",
    "fig, ax = plt.subplots(figsize=(25, 20), \n",
    "                       subplot_kw=dict(projection=tiler.crs))\n",
    "# Grid and limits\n",
    "gl = ax.gridlines(draw_labels=True)\n",
    "gl.xlabels_top = gl.ylabels_right = False\n",
    "ax.set_extent(extent)\n",
    "# Tiler image and detail level\n",
    "ax.add_image(tiler, detail_level) # always use low detail level during exploration\n",
    "```\n",
    "\n",
    "by\n",
    "\n",
    "```python\n",
    "fig, ax = fig, ax = plt.subplots(figsize=(25, 20), \n",
    "                           subplot_kw=dict(projection=ccrs.Mollweide()))\n",
    "ax.stock_img()\n",
    "```\n"
   ]
  },
  {
   "cell_type": "code",
   "execution_count": null,
   "metadata": {
    "collapsed": true,
    "deletable": true,
    "editable": true
   },
   "outputs": [],
   "source": []
  }
 ],
 "metadata": {
  "anaconda-cloud": {},
  "kernelspec": {
   "display_name": "Python 3",
   "language": "python",
   "name": "python3"
  },
  "language_info": {
   "codemirror_mode": {
    "name": "ipython",
    "version": 3
   },
   "file_extension": ".py",
   "mimetype": "text/x-python",
   "name": "python",
   "nbconvert_exporter": "python",
   "pygments_lexer": "ipython3",
   "version": "3.6.1"
  }
 },
 "nbformat": 4,
 "nbformat_minor": 1
}
