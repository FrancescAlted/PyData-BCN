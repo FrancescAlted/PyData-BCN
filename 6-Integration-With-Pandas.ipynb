{
 "cells": [
  {
   "cell_type": "markdown",
   "metadata": {
    "deletable": true,
    "editable": true
   },
   "source": [
    "# Integration with pandas"
   ]
  },
  {
   "cell_type": "markdown",
   "metadata": {
    "deletable": true,
    "editable": true
   },
   "source": [
    "> Objectives:\n",
    "> * Use pandas.HDFStore for serializing/deserializing pandas dataframes in HDF5 files\n",
    "> * Compare in-memory queries (via pandas dataframes) with on-disk ones (via HDFStore)\n",
    "> * Apply this to visualizing pokemons in Barcelona, New York and more!"
   ]
  },
  {
   "cell_type": "markdown",
   "metadata": {
    "deletable": true,
    "editable": true
   },
   "source": [
    "Let's see how HDF5 integrates with pandas while we are having fun visualizing the different kinds of pokemons in different geographical areas (like, yeah, Barcelona).  The dataset that we will be using here can obtained from https://www.kaggle.com/semioniy/predictemall."
   ]
  },
  {
   "cell_type": "code",
   "execution_count": 27,
   "metadata": {
    "collapsed": false,
    "deletable": true,
    "editable": true
   },
   "outputs": [],
   "source": [
    "%matplotlib inline\n",
    "%config InlineBackend.figure_format='retina'"
   ]
  },
  {
   "cell_type": "code",
   "execution_count": 28,
   "metadata": {
    "collapsed": false,
    "deletable": true,
    "editable": true
   },
   "outputs": [],
   "source": [
    "import numpy as np\n",
    "import matplotlib\n",
    "from matplotlib import pyplot as plt\n",
    "import pandas as pd\n",
    "import cartopy.crs as ccrs\n",
    "import cartopy.io.img_tiles as cimgt\n",
    "from matplotlib.offsetbox import OffsetImage, AnnotationBbox\n",
    "import os\n",
    "import shutil\n",
    "\n",
    "matplotlib.rcParams.update({'font.size': 12})"
   ]
  },
  {
   "cell_type": "markdown",
   "metadata": {
    "deletable": true,
    "editable": true
   },
   "source": [
    "## Load the pokemon dataset"
   ]
  },
  {
   "cell_type": "code",
   "execution_count": 29,
   "metadata": {
    "collapsed": false,
    "deletable": true,
    "editable": true
   },
   "outputs": [
    {
     "name": "stderr",
     "output_type": "stream",
     "text": [
      "<string>:2: DtypeWarning: Columns (49) have mixed types. Specify dtype option on import or set low_memory=False.\n"
     ]
    },
    {
     "name": "stdout",
     "output_type": "stream",
     "text": [
      "CPU times: user 15.5 s, sys: 1.03 s, total: 16.5 s\n",
      "Wall time: 16.7 s\n"
     ]
    }
   ],
   "source": [
    "%%time\n",
    "df = pd.read_csv('pokemon/300k_csv.zip')\n",
    "# Replace ? by a float representation\n",
    "df['pokestopDistanceKm'].replace({'?': -999.9}, inplace=True)\n",
    "df['pokestopDistanceKm'] = df.pokestopDistanceKm.astype(float)\n",
    "# Rename column with reserved name class by target\n",
    "df.rename(columns={'class': 'target'}, inplace=True)"
   ]
  },
  {
   "cell_type": "code",
   "execution_count": 30,
   "metadata": {
    "collapsed": false,
    "deletable": true,
    "editable": true
   },
   "outputs": [
    {
     "name": "stdout",
     "output_type": "stream",
     "text": [
      "<class 'pandas.core.frame.DataFrame'>\n",
      "RangeIndex: 296021 entries, 0 to 296020\n",
      "Columns: 208 entries, pokemonId to target\n",
      "dtypes: bool(168), float64(8), int64(17), object(8), uint64(7)\n",
      "memory usage: 137.8+ MB\n"
     ]
    }
   ],
   "source": [
    "df.info()"
   ]
  },
  {
   "cell_type": "code",
   "execution_count": 31,
   "metadata": {
    "collapsed": false,
    "deletable": true,
    "editable": true,
    "scrolled": true
   },
   "outputs": [
    {
     "data": {
      "text/html": [
       "<div>\n",
       "<style>\n",
       "    .dataframe thead tr:only-child th {\n",
       "        text-align: right;\n",
       "    }\n",
       "\n",
       "    .dataframe thead th {\n",
       "        text-align: left;\n",
       "    }\n",
       "\n",
       "    .dataframe tbody tr th {\n",
       "        vertical-align: top;\n",
       "    }\n",
       "</style>\n",
       "<table border=\"1\" class=\"dataframe\">\n",
       "  <thead>\n",
       "    <tr style=\"text-align: right;\">\n",
       "      <th></th>\n",
       "      <th>pokemonId</th>\n",
       "      <th>latitude</th>\n",
       "      <th>longitude</th>\n",
       "      <th>appearedLocalTime</th>\n",
       "      <th>_id</th>\n",
       "      <th>cellId_90m</th>\n",
       "      <th>cellId_180m</th>\n",
       "      <th>cellId_370m</th>\n",
       "      <th>cellId_730m</th>\n",
       "      <th>cellId_1460m</th>\n",
       "      <th>...</th>\n",
       "      <th>cooc_143</th>\n",
       "      <th>cooc_144</th>\n",
       "      <th>cooc_145</th>\n",
       "      <th>cooc_146</th>\n",
       "      <th>cooc_147</th>\n",
       "      <th>cooc_148</th>\n",
       "      <th>cooc_149</th>\n",
       "      <th>cooc_150</th>\n",
       "      <th>cooc_151</th>\n",
       "      <th>target</th>\n",
       "    </tr>\n",
       "  </thead>\n",
       "  <tbody>\n",
       "    <tr>\n",
       "      <th>0</th>\n",
       "      <td>16</td>\n",
       "      <td>20.525745</td>\n",
       "      <td>-97.460829</td>\n",
       "      <td>2016-09-08T03:57:45</td>\n",
       "      <td>NTgxMDkzOTk4MTM5MjUwMjIzNw==</td>\n",
       "      <td>9645139108510564000</td>\n",
       "      <td>9645139108711890000</td>\n",
       "      <td>9645139108443455000</td>\n",
       "      <td>9645139109517197000</td>\n",
       "      <td>9645139113812165000</td>\n",
       "      <td>...</td>\n",
       "      <td>False</td>\n",
       "      <td>False</td>\n",
       "      <td>False</td>\n",
       "      <td>False</td>\n",
       "      <td>False</td>\n",
       "      <td>False</td>\n",
       "      <td>False</td>\n",
       "      <td>False</td>\n",
       "      <td>False</td>\n",
       "      <td>16</td>\n",
       "    </tr>\n",
       "    <tr>\n",
       "      <th>1</th>\n",
       "      <td>133</td>\n",
       "      <td>20.523695</td>\n",
       "      <td>-97.461167</td>\n",
       "      <td>2016-09-08T03:57:37</td>\n",
       "      <td>OTQ1NDgzODc1MjM3NDEzMTI2MQ==</td>\n",
       "      <td>9645139109852742000</td>\n",
       "      <td>9645139109785633000</td>\n",
       "      <td>9645139110590940000</td>\n",
       "      <td>9645139109517197000</td>\n",
       "      <td>9645139113812165000</td>\n",
       "      <td>...</td>\n",
       "      <td>False</td>\n",
       "      <td>False</td>\n",
       "      <td>False</td>\n",
       "      <td>False</td>\n",
       "      <td>False</td>\n",
       "      <td>False</td>\n",
       "      <td>False</td>\n",
       "      <td>False</td>\n",
       "      <td>False</td>\n",
       "      <td>133</td>\n",
       "    </tr>\n",
       "    <tr>\n",
       "      <th>2</th>\n",
       "      <td>16</td>\n",
       "      <td>38.903590</td>\n",
       "      <td>-77.199780</td>\n",
       "      <td>2016-09-08T03:57:25</td>\n",
       "      <td>NTQ0OTQ0NDA1Nzg2ODg3OTg2OQ==</td>\n",
       "      <td>9923201472785285000</td>\n",
       "      <td>9923201472986612000</td>\n",
       "      <td>9923201473791918000</td>\n",
       "      <td>9923201477013144000</td>\n",
       "      <td>9923201481308110000</td>\n",
       "      <td>...</td>\n",
       "      <td>False</td>\n",
       "      <td>False</td>\n",
       "      <td>False</td>\n",
       "      <td>False</td>\n",
       "      <td>False</td>\n",
       "      <td>False</td>\n",
       "      <td>False</td>\n",
       "      <td>False</td>\n",
       "      <td>False</td>\n",
       "      <td>16</td>\n",
       "    </tr>\n",
       "    <tr>\n",
       "      <th>3</th>\n",
       "      <td>13</td>\n",
       "      <td>47.665903</td>\n",
       "      <td>-122.312561</td>\n",
       "      <td>2016-09-08T03:56:22</td>\n",
       "      <td>NTU2MTU1NDM4NzA2MDk1MDcxNw==</td>\n",
       "      <td>6093392705025474600</td>\n",
       "      <td>6093392705092583400</td>\n",
       "      <td>6093392705897889800</td>\n",
       "      <td>6093392702676664300</td>\n",
       "      <td>6093392715561566200</td>\n",
       "      <td>...</td>\n",
       "      <td>False</td>\n",
       "      <td>False</td>\n",
       "      <td>False</td>\n",
       "      <td>False</td>\n",
       "      <td>False</td>\n",
       "      <td>False</td>\n",
       "      <td>False</td>\n",
       "      <td>False</td>\n",
       "      <td>False</td>\n",
       "      <td>13</td>\n",
       "    </tr>\n",
       "    <tr>\n",
       "      <th>4</th>\n",
       "      <td>133</td>\n",
       "      <td>47.666454</td>\n",
       "      <td>-122.311628</td>\n",
       "      <td>2016-09-08T03:56:08</td>\n",
       "      <td>MTY2ODg4MTAzMTczMDE0MTUwNTM=</td>\n",
       "      <td>6093392707709829100</td>\n",
       "      <td>6093392707776938000</td>\n",
       "      <td>6093392708045373400</td>\n",
       "      <td>6093392711266598900</td>\n",
       "      <td>6093392715561566200</td>\n",
       "      <td>...</td>\n",
       "      <td>False</td>\n",
       "      <td>False</td>\n",
       "      <td>False</td>\n",
       "      <td>False</td>\n",
       "      <td>False</td>\n",
       "      <td>False</td>\n",
       "      <td>False</td>\n",
       "      <td>False</td>\n",
       "      <td>False</td>\n",
       "      <td>133</td>\n",
       "    </tr>\n",
       "  </tbody>\n",
       "</table>\n",
       "<p>5 rows × 208 columns</p>\n",
       "</div>"
      ],
      "text/plain": [
       "   pokemonId   latitude   longitude    appearedLocalTime  \\\n",
       "0         16  20.525745  -97.460829  2016-09-08T03:57:45   \n",
       "1        133  20.523695  -97.461167  2016-09-08T03:57:37   \n",
       "2         16  38.903590  -77.199780  2016-09-08T03:57:25   \n",
       "3         13  47.665903 -122.312561  2016-09-08T03:56:22   \n",
       "4        133  47.666454 -122.311628  2016-09-08T03:56:08   \n",
       "\n",
       "                            _id           cellId_90m          cellId_180m  \\\n",
       "0  NTgxMDkzOTk4MTM5MjUwMjIzNw==  9645139108510564000  9645139108711890000   \n",
       "1  OTQ1NDgzODc1MjM3NDEzMTI2MQ==  9645139109852742000  9645139109785633000   \n",
       "2  NTQ0OTQ0NDA1Nzg2ODg3OTg2OQ==  9923201472785285000  9923201472986612000   \n",
       "3  NTU2MTU1NDM4NzA2MDk1MDcxNw==  6093392705025474600  6093392705092583400   \n",
       "4  MTY2ODg4MTAzMTczMDE0MTUwNTM=  6093392707709829100  6093392707776938000   \n",
       "\n",
       "           cellId_370m          cellId_730m         cellId_1460m   ...    \\\n",
       "0  9645139108443455000  9645139109517197000  9645139113812165000   ...     \n",
       "1  9645139110590940000  9645139109517197000  9645139113812165000   ...     \n",
       "2  9923201473791918000  9923201477013144000  9923201481308110000   ...     \n",
       "3  6093392705897889800  6093392702676664300  6093392715561566200   ...     \n",
       "4  6093392708045373400  6093392711266598900  6093392715561566200   ...     \n",
       "\n",
       "   cooc_143  cooc_144 cooc_145  cooc_146  cooc_147 cooc_148  cooc_149  \\\n",
       "0     False     False    False     False     False    False     False   \n",
       "1     False     False    False     False     False    False     False   \n",
       "2     False     False    False     False     False    False     False   \n",
       "3     False     False    False     False     False    False     False   \n",
       "4     False     False    False     False     False    False     False   \n",
       "\n",
       "   cooc_150  cooc_151  target  \n",
       "0     False     False      16  \n",
       "1     False     False     133  \n",
       "2     False     False      16  \n",
       "3     False     False      13  \n",
       "4     False     False     133  \n",
       "\n",
       "[5 rows x 208 columns]"
      ]
     },
     "execution_count": 31,
     "metadata": {},
     "output_type": "execute_result"
    }
   ],
   "source": [
    "df.head()"
   ]
  },
  {
   "cell_type": "markdown",
   "metadata": {
    "deletable": true,
    "editable": true
   },
   "source": [
    "## Storing in HDF5 compressed form with pandas.HDFStore"
   ]
  },
  {
   "cell_type": "markdown",
   "metadata": {
    "deletable": true,
    "editable": true
   },
   "source": [
    "Let's store the dataframe in HDF5 and indexing just the columns that we are interested for doing our queries (remember that the indexes take space on-disk, and we want to avoid cluttering the files unnecessarily). "
   ]
  },
  {
   "cell_type": "code",
   "execution_count": 32,
   "metadata": {
    "collapsed": true,
    "deletable": true,
    "editable": true
   },
   "outputs": [],
   "source": [
    "data_dir = \"hdfstore\"\n",
    "if os.path.exists(data_dir):\n",
    "    shutil.rmtree(data_dir)\n",
    "os.mkdir(data_dir)"
   ]
  },
  {
   "cell_type": "code",
   "execution_count": 34,
   "metadata": {
    "collapsed": false,
    "deletable": true,
    "editable": true,
    "scrolled": true
   },
   "outputs": [
    {
     "name": "stdout",
     "output_type": "stream",
     "text": [
      "CPU times: user 9.55 s, sys: 562 ms, total: 10.1 s\n",
      "Wall time: 10.3 s\n"
     ]
    }
   ],
   "source": [
    "%%time\n",
    "complib, codec = 'blosc', 'zstd'\n",
    "complevel = 6\n",
    "filename = \"%s/%s-%s-%d.h5\" % (data_dir, complib, codec, complevel)\n",
    "with pd.HDFStore(filename, mode='w') as hdf:\n",
    "    # We only index the columns needed\n",
    "    hdf.put(key='pokemons', value=df, data_columns=['target', 'latitude', 'longitude'],\n",
    "            format='table', complevel=complevel, complib=\"%s:%s\" % (complib, codec))"
   ]
  },
  {
   "cell_type": "code",
   "execution_count": 35,
   "metadata": {
    "collapsed": false,
    "deletable": true,
    "editable": true
   },
   "outputs": [
    {
     "name": "stdout",
     "output_type": "stream",
     "text": [
      "hdfstore:\r\n",
      "total 70592\r\n",
      "-rw-r--r--  1 faltet  staff    34M May 18 13:27 blosc-zstd-6.h5\r\n",
      "\r\n",
      "pokemon:\r\n",
      "total 77016\r\n",
      "-rw-r--r--    1 faltet  staff    38M May 17 12:28 300k_csv.zip\r\n",
      "drwxr-xr-x  153 faltet  staff   5.1K May 17 12:28 \u001b[34msprites\u001b[m\u001b[m/\r\n"
     ]
    }
   ],
   "source": [
    "%ls -lh {data_dir} pokemon"
   ]
  },
  {
   "cell_type": "markdown",
   "metadata": {
    "deletable": true,
    "editable": true
   },
   "source": [
    "So, the `pandas.HDFStore` can store the dataframe using a space that is close (even slightly smaller!) to the original zipped CSV file.  In addition, the created HDF5 file also contains indexes (specifically for columns 'target', 'latitude' and 'longitude') for faster on-disk querying."
   ]
  },
  {
   "cell_type": "markdown",
   "metadata": {
    "deletable": true,
    "editable": true
   },
   "source": [
    "## Select comparison: in-memory vs on-disk"
   ]
  },
  {
   "cell_type": "code",
   "execution_count": null,
   "metadata": {
    "collapsed": true,
    "deletable": true,
    "editable": true
   },
   "outputs": [],
   "source": [
    "# Set the query for Barcelona coordinates\n",
    "barcelona_coords = \"(latitude > 41.365) & (latitude < 41.383) & (longitude > 2.175) & (longitude < 2.196)\""
   ]
  },
  {
   "cell_type": "code",
   "execution_count": null,
   "metadata": {
    "collapsed": false,
    "deletable": true,
    "editable": true
   },
   "outputs": [],
   "source": [
    "%%time\n",
    "df2 = df.query(barcelona_coords)"
   ]
  },
  {
   "cell_type": "code",
   "execution_count": null,
   "metadata": {
    "collapsed": false,
    "deletable": true,
    "editable": true
   },
   "outputs": [],
   "source": [
    "%%time\n",
    "with pd.HDFStore(filename, mode='r') as hdf:\n",
    "    df2 = hdf.select(key='pokemons', where=barcelona_coords)"
   ]
  },
  {
   "cell_type": "markdown",
   "metadata": {
    "deletable": true,
    "editable": true
   },
   "source": [
    "So we can do queries on-disk (i.e. not limited by the amount of memory) that are under 1 second, which is quite convenient for interactive exploration."
   ]
  },
  {
   "cell_type": "markdown",
   "metadata": {
    "deletable": true,
    "editable": true
   },
   "source": [
    "## Exercise 1\n",
    "\n",
    "Compare the cost of loading the whole CSV from pandas with respect to loading the data from the HDF5 file.\n",
    "\n",
    "**Optional**: Store the csv in an HDF5 file using complib **blosc:lz4** and complevel **9**. Compare the results in terms of space on-disk and query times."
   ]
  },
  {
   "cell_type": "code",
   "execution_count": null,
   "metadata": {
    "collapsed": true
   },
   "outputs": [],
   "source": []
  },
  {
   "cell_type": "markdown",
   "metadata": {
    "deletable": true,
    "editable": true
   },
   "source": [
    "## Plotting Barcelona Pokemons"
   ]
  },
  {
   "cell_type": "markdown",
   "metadata": {
    "deletable": true,
    "editable": true
   },
   "source": [
    "Let's use [cartopy](http://scitools.org.uk/cartopy/) for plotting pokemon in a map of Barcelona."
   ]
  },
  {
   "cell_type": "code",
   "execution_count": null,
   "metadata": {
    "collapsed": false,
    "deletable": true,
    "editable": true
   },
   "outputs": [],
   "source": [
    "def plot_pokemons(df, extent, detail_level):\n",
    "        \n",
    "    tiler = cimgt.OSM()\n",
    "    fig, ax = plt.subplots(figsize=(25, 20), \n",
    "                           subplot_kw=dict(projection=tiler.crs))\n",
    "    # Grid and limits\n",
    "    gl = ax.gridlines(draw_labels=True)\n",
    "    gl.xlabels_top = gl.ylabels_right = False\n",
    "    ax.set_extent(extent)\n",
    "    # Tiler image and detail level\n",
    "    ax.add_image(tiler, detail_level) # always use low detail level during exploration\n",
    "    # Point transformation from cartopy to matplotlib\n",
    "    crs = ccrs.Geodetic()\n",
    "    transform = crs._as_mpl_transform(ax)\n",
    "    # Mapping points to Pokemon sprites\n",
    "    x, y, targets = df.longitude.values, df.latitude.values, df.target.values\n",
    "    artists = []\n",
    "    for i in range(len(df)):\n",
    "        image = plt.imread('pokemon/sprites/' + str(targets[i]) + '.png')\n",
    "        im = OffsetImage(image, zoom=0.6)\n",
    "        ab = AnnotationBbox(im, (x[i], y[i]), xycoords=transform, frameon=False)\n",
    "        artists.append(ax.add_artist(ab))\n",
    "    ax.plot(x, y, 'ob')\n",
    "\n",
    "    plt.show()"
   ]
  },
  {
   "cell_type": "code",
   "execution_count": null,
   "metadata": {
    "collapsed": false,
    "deletable": true,
    "editable": true
   },
   "outputs": [],
   "source": [
    "%%time\n",
    "with pd.HDFStore(filename, mode='r') as hdf:\n",
    "    df2 = hdf.select(key='pokemons', where=barcelona_coords)\n",
    "extent = (2.175, 2.196, 41.365, 41.383)\n",
    "detail_level = 15\n",
    "plot_pokemons(df2, extent, detail_level)"
   ]
  },
  {
   "cell_type": "markdown",
   "metadata": {
    "collapsed": true,
    "deletable": true,
    "editable": true
   },
   "source": [
    "### Exercise 2\n",
    "\n",
    "Plot pokemons in Central Park, New York.   \n",
    "\n",
    "Tip: http://www.bufa.es/google-maps-latitud-longitud/"
   ]
  },
  {
   "cell_type": "markdown",
   "metadata": {
    "deletable": true,
    "editable": true
   },
   "source": [
    "### Exercise 3\n",
    "\n",
    "There are some pokemon which are exclusive of certain regions; these are Farfetch'd (**target**=83), Kangashkan (**target**=115), Mr. Mime (**target**=122) and Tauros (**target**=128).  Plot the world map with only these pokemon.  \n",
    "\n",
    "**Tip**: for plotting a world-wide view, copy the `plot_pokemons` function and replace the following lines: \n",
    "\n",
    "```python\n",
    "tiler = cimgt.OSM()\n",
    "fig, ax = plt.subplots(figsize=(25, 20), \n",
    "                       subplot_kw=dict(projection=tiler.crs))\n",
    "# Grid and limits\n",
    "gl = ax.gridlines(draw_labels=True)\n",
    "gl.xlabels_top = gl.ylabels_right = False\n",
    "ax.set_extent(extent)\n",
    "# Tiler image and detail level\n",
    "ax.add_image(tiler, detail_level) # always use low detail level during exploration\n",
    "```\n",
    "\n",
    "by\n",
    "\n",
    "```python\n",
    "fig, ax = fig, ax = plt.subplots(figsize=(25, 20), \n",
    "                           subplot_kw=dict(projection=ccrs.Mollweide()))\n",
    "ax.stock_img()\n",
    "```\n"
   ]
  },
  {
   "cell_type": "code",
   "execution_count": null,
   "metadata": {
    "collapsed": true,
    "deletable": true,
    "editable": true
   },
   "outputs": [],
   "source": []
  }
 ],
 "metadata": {
  "anaconda-cloud": {},
  "kernelspec": {
   "display_name": "Python 3",
   "language": "python",
   "name": "python3"
  },
  "language_info": {
   "codemirror_mode": {
    "name": "ipython",
    "version": 3
   },
   "file_extension": ".py",
   "mimetype": "text/x-python",
   "name": "python",
   "nbconvert_exporter": "python",
   "pygments_lexer": "ipython3",
   "version": "3.6.1"
  }
 },
 "nbformat": 4,
 "nbformat_minor": 1
}
