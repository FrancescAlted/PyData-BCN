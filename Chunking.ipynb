{
 "cells": [
  {
   "cell_type": "markdown",
   "metadata": {
    "deletable": true,
    "editable": true
   },
   "source": [
    "# Chunking in HDF5"
   ]
  },
  {
   "cell_type": "markdown",
   "metadata": {
    "deletable": true,
    "editable": true
   },
   "source": [
    "The HDF5 library supports several layouts so as to store datasets.\n",
    "\n",
    "* Continuous layout:\n",
    "  ![Continuous](img/dset_contiguous4x4.jpg)\n",
    "  More compact, and usually it can be read faster.  Typically used for small datasets (< 1 MB).\n",
    "  \n",
    "* Chunked layout:\n",
    "  ![Chunked](img/dset_chunked4x4.jpg)\n",
    "  Datasets can be enlarged and compressed.  Can be read fast using a fast decompressor. Typically used for large datasets."
   ]
  },
  {
   "cell_type": "markdown",
   "metadata": {
    "deletable": true,
    "editable": true
   },
   "source": [
    "## Creating datasets"
   ]
  },
  {
   "cell_type": "code",
   "execution_count": 6,
   "metadata": {
    "collapsed": true,
    "deletable": true,
    "editable": true
   },
   "outputs": [],
   "source": [
    "import numpy as np\n",
    "import h5py"
   ]
  },
  {
   "cell_type": "code",
   "execution_count": 37,
   "metadata": {
    "collapsed": false
   },
   "outputs": [],
   "source": [
    "import os\n",
    "import shutil\n",
    "if os.path.exists(\"chunking\"):\n",
    "    shutil.rmtree(\"chunking\")\n",
    "os.mkdir(\"chunking\")"
   ]
  },
  {
   "cell_type": "code",
   "execution_count": 38,
   "metadata": {
    "collapsed": true,
    "deletable": true,
    "editable": true
   },
   "outputs": [],
   "source": [
    "def create_files(size, chunksize):\n",
    "    data = np.arange(size, dtype=np.int64)\n",
    "\n",
    "    # Contiguous array\n",
    "    with h5py.File(\"chunking/continuous.h5\", \"w\") as f:\n",
    "        f.create_dataset(data=data, name=\"data\", dtype=np.int64)\n",
    "\n",
    "    # Simple chunking\n",
    "    with h5py.File(\"chunking/chunked.h5\", \"w\") as f:\n",
    "        dset = f.create_dataset(\"data\", (size,), chunks=(chunksize,), dtype=np.int64)\n",
    "        dset[:] = data\n",
    "\n",
    "    # Automatic chunking and unlimited resizing\n",
    "    with h5py.File(\"chunking/automatic.h5\", \"w\") as f:\n",
    "        dset = f.create_dataset(\"data\", (0,), chunks=True, maxshape=(None,), dtype=np.int64)\n",
    "        dset.resize((size,))\n",
    "        dset[:] = data"
   ]
  },
  {
   "cell_type": "code",
   "execution_count": 39,
   "metadata": {
    "collapsed": false
   },
   "outputs": [],
   "source": [
    "create_files(size=1000, chunksize=100)"
   ]
  },
  {
   "cell_type": "code",
   "execution_count": 40,
   "metadata": {
    "collapsed": false,
    "deletable": true,
    "editable": true
   },
   "outputs": [
    {
     "name": "stdout",
     "output_type": "stream",
     "text": [
      "-rw-r--r--  1 faltet  staff  11688 May 11 13:15 chunking/automatic.h5\r\n",
      "-rw-r--r--  1 faltet  staff  11496 May 11 13:15 chunking/chunked.h5\r\n",
      "-rw-r--r--  1 faltet  staff  10144 May 11 13:15 chunking/continuous.h5\r\n"
     ]
    }
   ],
   "source": [
    "!ls -l chunking/*.h5"
   ]
  },
  {
   "cell_type": "markdown",
   "metadata": {
    "deletable": true,
    "editable": true
   },
   "source": [
    "### Exercise 1"
   ]
  },
  {
   "cell_type": "markdown",
   "metadata": {
    "deletable": true,
    "editable": true
   },
   "source": [
    "In the example above, set the `chunksize` parameter to 99 and re-run it.  How the sizes of the different files changes?  Why?"
   ]
  },
  {
   "cell_type": "code",
   "execution_count": 41,
   "metadata": {
    "collapsed": false,
    "deletable": true,
    "editable": true
   },
   "outputs": [
    {
     "name": "stdout",
     "output_type": "stream",
     "text": [
      "-rw-r--r--  1 faltet  staff  11688 May 11 13:16 chunking/automatic.h5\r\n",
      "-rw-r--r--  1 faltet  staff  12208 May 11 13:16 chunking/chunked.h5\r\n",
      "-rw-r--r--  1 faltet  staff  10144 May 11 13:16 chunking/continuous.h5\r\n"
     ]
    }
   ],
   "source": [
    "create_files(size=1000, chunksize=99)\n",
    "!ls -l chunking/*.h5"
   ]
  },
  {
   "cell_type": "markdown",
   "metadata": {
    "collapsed": true,
    "deletable": true,
    "editable": true
   },
   "source": [
    "## Reading datasets"
   ]
  },
  {
   "cell_type": "code",
   "execution_count": 43,
   "metadata": {
    "collapsed": false
   },
   "outputs": [
    {
     "name": "stdout",
     "output_type": "stream",
     "text": [
      "reading chunking/continuous.h5...\n",
      "1000 loops, best of 3: 465 µs per loop\n",
      "reading chunking/chunked.h5...\n",
      "1000 loops, best of 3: 482 µs per loop\n",
      "reading chunking/automatic.h5...\n",
      "1000 loops, best of 3: 464 µs per loop\n"
     ]
    }
   ],
   "source": [
    "for h5file in (\"chunking/continuous.h5\", \"chunking/chunked.h5\", \"chunking/automatic.h5\"):\n",
    "    print(\"reading %s...\" % h5file)\n",
    "    %timeit h5py.File(h5file)['data'][:]"
   ]
  },
  {
   "cell_type": "markdown",
   "metadata": {
    "deletable": true,
    "editable": true
   },
   "source": [
    "### Exercise 2"
   ]
  },
  {
   "cell_type": "markdown",
   "metadata": {},
   "source": [
    "In the example above, set the `size` to 10 millions and choose a minimal `chunksize` that offers a reasonable filesize and read speed."
   ]
  },
  {
   "cell_type": "code",
   "execution_count": 47,
   "metadata": {
    "collapsed": false,
    "deletable": true,
    "editable": true
   },
   "outputs": [
    {
     "name": "stdout",
     "output_type": "stream",
     "text": [
      "-rw-r--r--  1 faltet  staff    11K May 11 13:12 chunking-automatic.h5\r\n",
      "-rw-r--r--  1 faltet  staff    11K May 11 13:12 chunking-chunked.h5\r\n",
      "-rw-r--r--  1 faltet  staff   9.9K May 11 13:12 chunking-continuous.h5\r\n",
      "-rw-r--r--  1 faltet  staff    77M May 11 13:08 chunking-unlimited.h5\r\n"
     ]
    }
   ],
   "source": [
    "create_files(size=1000*1000*10, chunksize=100000)\n",
    "!ls -lh chunking-*.h5"
   ]
  },
  {
   "cell_type": "code",
   "execution_count": 48,
   "metadata": {
    "collapsed": false,
    "deletable": true,
    "editable": true
   },
   "outputs": [
    {
     "name": "stdout",
     "output_type": "stream",
     "text": [
      "reading chunking/continuous.h5...\n",
      "10 loops, best of 3: 39.4 ms per loop\n",
      "reading chunking/chunked.h5...\n",
      "10 loops, best of 3: 44.6 ms per loop\n",
      "reading chunking/automatic.h5...\n",
      "10 loops, best of 3: 131 ms per loop\n"
     ]
    }
   ],
   "source": [
    "for h5file in (\"chunking/continuous.h5\", \"chunking/chunked.h5\", \"chunking/automatic.h5\"):\n",
    "    print(\"reading %s...\" % h5file)\n",
    "    %timeit h5py.File(h5file)['data'][:]"
   ]
  },
  {
   "cell_type": "code",
   "execution_count": null,
   "metadata": {
    "collapsed": true
   },
   "outputs": [],
   "source": []
  }
 ],
 "metadata": {
  "kernelspec": {
   "display_name": "Python 3",
   "language": "python",
   "name": "python3"
  },
  "language_info": {
   "codemirror_mode": {
    "name": "ipython",
    "version": 3
   },
   "file_extension": ".py",
   "mimetype": "text/x-python",
   "name": "python",
   "nbconvert_exporter": "python",
   "pygments_lexer": "ipython3",
   "version": "3.6.1"
  }
 },
 "nbformat": 4,
 "nbformat_minor": 2
}
